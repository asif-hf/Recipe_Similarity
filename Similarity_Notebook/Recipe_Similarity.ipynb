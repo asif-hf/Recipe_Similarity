{
 "cells": [
  {
   "cell_type": "code",
   "execution_count": 103,
   "id": "aa4b6863",
   "metadata": {},
   "outputs": [],
   "source": [
    "#pip freeze > requirements.txt"
   ]
  },
  {
   "cell_type": "code",
   "execution_count": 4,
   "id": "fd485cb1",
   "metadata": {},
   "outputs": [],
   "source": [
    "import pandas as pd \n",
    "import gspread \n",
    "from oauth2client.service_account import ServiceAccountCredentials"
   ]
  },
  {
   "cell_type": "code",
   "execution_count": 6,
   "id": "85f2b7dc",
   "metadata": {},
   "outputs": [],
   "source": [
    "scope = ['https://spreadsheets.google.com/feeds'] \n",
    "credentials = ServiceAccountCredentials.from_json_keyfile_name('C:/Users/06842617426045365448/Desktop/Projects/Jupyter_scripts/jupyter-notebooks-357802-1e91537dc2de.json', scope)\n",
    "gc = gspread.authorize(credentials)"
   ]
  },
  {
   "cell_type": "code",
   "execution_count": 7,
   "id": "74378821",
   "metadata": {},
   "outputs": [
    {
     "name": "stdout",
     "output_type": "stream",
     "text": [
      "Select market {AU, NZ, EP}\n",
      "AU\n"
     ]
    }
   ],
   "source": [
    "database = input(\"Select market {AU, NZ, EP}\\n\")"
   ]
  },
  {
   "cell_type": "code",
   "execution_count": 8,
   "id": "398d961a",
   "metadata": {},
   "outputs": [],
   "source": [
    "##Get candidate data sheet from Google Drive\n",
    "if database == \"AU\":\n",
    "    spreadsheet_key = '10i0ZcjAv8P8pHXsziHs5Fg3Nt8DredysNwzp7eAp75A'\n",
    "    book = gc.open_by_key(spreadsheet_key)\n",
    "    worksheet = book.worksheet(\"AU_Active_Dev_Database\")\n",
    "    table = worksheet.get_all_values()\n",
    "elif database == \"NZ\":\n",
    "    spreadsheet_key = '10i0ZcjAv8P8pHXsziHs5Fg3Nt8DredysNwzp7eAp75A'\n",
    "    book = gc.open_by_key(spreadsheet_key)\n",
    "    worksheet = book.worksheet(\"NZ_Active_Dev_Database\")\n",
    "    table = worksheet.get_all_values()  \n",
    "elif database == \"EP\":\n",
    "    spreadsheet_key = '10i0ZcjAv8P8pHXsziHs5Fg3Nt8DredysNwzp7eAp75A'\n",
    "    book = gc.open_by_key(spreadsheet_key)\n",
    "    worksheet = book.worksheet(\"EP_Active_Dev_Database\")\n",
    "    table = worksheet.get_all_values()    \n",
    "else:\n",
    "    print('Type either \"AU\", \"NZ\", \"EP\":')\n"
   ]
  },
  {
   "cell_type": "code",
   "execution_count": 9,
   "id": "66ec1596",
   "metadata": {},
   "outputs": [
    {
     "data": {
      "text/html": [
       "<div>\n",
       "<style scoped>\n",
       "    .dataframe tbody tr th:only-of-type {\n",
       "        vertical-align: middle;\n",
       "    }\n",
       "\n",
       "    .dataframe tbody tr th {\n",
       "        vertical-align: top;\n",
       "    }\n",
       "\n",
       "    .dataframe thead th {\n",
       "        text-align: right;\n",
       "    }\n",
       "</style>\n",
       "<table border=\"1\" class=\"dataframe\">\n",
       "  <thead>\n",
       "    <tr style=\"text-align: right;\">\n",
       "      <th></th>\n",
       "      <th>recipe_id</th>\n",
       "      <th>name</th>\n",
       "      <th>box</th>\n",
       "      <th>main_protein</th>\n",
       "      <th>protein_cut</th>\n",
       "      <th>main_carb</th>\n",
       "      <th>culinary_cuisine</th>\n",
       "      <th>ingredients</th>\n",
       "      <th>last_score</th>\n",
       "      <th>tags</th>\n",
       "    </tr>\n",
       "  </thead>\n",
       "  <tbody>\n",
       "    <tr>\n",
       "      <th>0</th>\n",
       "      <td>7362</td>\n",
       "      <td>Ginger &amp; Lemongrass Prawns with Veggies &amp; Garl...</td>\n",
       "      <td>classic-box/None</td>\n",
       "      <td>Shellfish</td>\n",
       "      <td>Shellfish - Prawns</td>\n",
       "      <td>Rice - Jasmine</td>\n",
       "      <td>Asian</td>\n",
       "      <td>soy-ginger stir-fry sauce,jasmine rice,garlic,...</td>\n",
       "      <td>3.63</td>\n",
       "      <td>gluten_free,calorie_smart</td>\n",
       "    </tr>\n",
       "    <tr>\n",
       "      <th>1</th>\n",
       "      <td>8742</td>\n",
       "      <td>Herby Chicken Waldorf-Style Salad with Crouton...</td>\n",
       "      <td>classic-box/hfx</td>\n",
       "      <td>Chicken</td>\n",
       "      <td>Chicken - Breast Steak</td>\n",
       "      <td>Bread - Ciabatta</td>\n",
       "      <td>American</td>\n",
       "      <td>chicken tenderloins,garlic &amp; herb seasoning,le...</td>\n",
       "      <td></td>\n",
       "      <td>HFX,easy,&lt;10min,quick,maverick</td>\n",
       "    </tr>\n",
       "    <tr>\n",
       "      <th>2</th>\n",
       "      <td>11043</td>\n",
       "      <td>[HFX / UU Project] Chicken Tenders &amp; Creamy Mu...</td>\n",
       "      <td>classic-box/hfx</td>\n",
       "      <td>Chicken</td>\n",
       "      <td>Chicken - Tenderloin</td>\n",
       "      <td>Potato - Mash</td>\n",
       "      <td>British</td>\n",
       "      <td>trimmed green beans,mashed potato,chicken tend...</td>\n",
       "      <td></td>\n",
       "      <td>easy,HFX,30-40g carb,quick,calorie_smart</td>\n",
       "    </tr>\n",
       "    <tr>\n",
       "      <th>3</th>\n",
       "      <td>7904</td>\n",
       "      <td>Caribbean Eggplant &amp; Coconut Sauce with Spinac...</td>\n",
       "      <td>classic-box/None</td>\n",
       "      <td>Vegetarian</td>\n",
       "      <td>Veggie - Other</td>\n",
       "      <td>Rice - Basmati</td>\n",
       "      <td>Caribbean</td>\n",
       "      <td>slivered almonds,garlic,eggplant,shredded cabb...</td>\n",
       "      <td></td>\n",
       "      <td>maverick,plant_based,explorer,gluten_free</td>\n",
       "    </tr>\n",
       "    <tr>\n",
       "      <th>4</th>\n",
       "      <td>7060</td>\n",
       "      <td>Onion, Feta &amp; Rosemary Focaccia None</td>\n",
       "      <td>sides/None</td>\n",
       "      <td></td>\n",
       "      <td></td>\n",
       "      <td></td>\n",
       "      <td></td>\n",
       "      <td>caramelised onion chutney,bÃ©arnaise sauce</td>\n",
       "      <td></td>\n",
       "      <td></td>\n",
       "    </tr>\n",
       "  </tbody>\n",
       "</table>\n",
       "</div>"
      ],
      "text/plain": [
       "  recipe_id                                               name  \\\n",
       "0      7362  Ginger & Lemongrass Prawns with Veggies & Garl...   \n",
       "1      8742  Herby Chicken Waldorf-Style Salad with Crouton...   \n",
       "2     11043  [HFX / UU Project] Chicken Tenders & Creamy Mu...   \n",
       "3      7904  Caribbean Eggplant & Coconut Sauce with Spinac...   \n",
       "4      7060               Onion, Feta & Rosemary Focaccia None   \n",
       "\n",
       "                box main_protein             protein_cut         main_carb  \\\n",
       "0  classic-box/None    Shellfish      Shellfish - Prawns    Rice - Jasmine   \n",
       "1   classic-box/hfx      Chicken  Chicken - Breast Steak  Bread - Ciabatta   \n",
       "2   classic-box/hfx      Chicken    Chicken - Tenderloin     Potato - Mash   \n",
       "3  classic-box/None   Vegetarian          Veggie - Other    Rice - Basmati   \n",
       "4        sides/None                                                          \n",
       "\n",
       "  culinary_cuisine                                        ingredients  \\\n",
       "0            Asian  soy-ginger stir-fry sauce,jasmine rice,garlic,...   \n",
       "1         American  chicken tenderloins,garlic & herb seasoning,le...   \n",
       "2          British  trimmed green beans,mashed potato,chicken tend...   \n",
       "3        Caribbean  slivered almonds,garlic,eggplant,shredded cabb...   \n",
       "4                          caramelised onion chutney,bÃ©arnaise sauce   \n",
       "\n",
       "  last_score                                       tags  \n",
       "0       3.63                  gluten_free,calorie_smart  \n",
       "1                        HFX,easy,<10min,quick,maverick  \n",
       "2              easy,HFX,30-40g carb,quick,calorie_smart  \n",
       "3             maverick,plant_based,explorer,gluten_free  \n",
       "4                                                        "
      ]
     },
     "execution_count": 9,
     "metadata": {},
     "output_type": "execute_result"
    }
   ],
   "source": [
    "##Convert table data into a dataframe\n",
    "df = pd.DataFrame(table[1:], columns=table[0])\n",
    "\n",
    "##Only keep columns we need\n",
    "df = df[['recipe_id', 'name', 'box', 'main_protein', 'protein_cut', 'main_carb', 'culinary_cuisine', 'ingredients', 'last_score', 'tags']]\n",
    "\n",
    "df.head()\n"
   ]
  },
  {
   "cell_type": "code",
   "execution_count": 79,
   "id": "e9cb4075",
   "metadata": {},
   "outputs": [],
   "source": [
    "#Protein = list(df['main_protein'].unique())\n",
    "#Cut = list(df['protein_cut'].unique())\n",
    "#Carb = list(df['main_carb'].unique())\n",
    "#print('Unique main protein list:\\n', Protein)\n",
    "#print('Unique protein cut list:\\n', Cut)\n",
    "#print('Unique carb list:\\n', Carb)"
   ]
  },
  {
   "cell_type": "markdown",
   "id": "d25444d3",
   "metadata": {},
   "source": [
    "Main code block\n",
    "\n",
    "1: Ask input for main protein, protein cut, carb, and ingredient based on a list\n",
    "\n",
    "2: Do a string match on the list of SKUs and assign a similarity number on it\n",
    "\n",
    "3: Find out the recipes with similar ptn, cut, and carb. And then assign the similarity ratio to them.\n",
    "\n",
    "4: Output the recipes, and show a graph of the distribution of scores with the recipes."
   ]
  },
  {
   "cell_type": "code",
   "execution_count": 10,
   "id": "95042d4d",
   "metadata": {},
   "outputs": [
    {
     "name": "stdout",
     "output_type": "stream",
     "text": [
      "Select any Protein from the list above: \n",
      "Chicken\n",
      "Select any Cut from list above: \n",
      "Mince\n",
      "Select any Carb from list above: \n",
      "Potato\n",
      "Select Cuisine:\n",
      "\n",
      "Select Ingredient:\n",
      "\n",
      "Select tag:\n",
      "\n"
     ]
    }
   ],
   "source": [
    "protein = input('Select any Protein from the list above: \\n')  \n",
    "protein_cut = input('Select any Cut from list above: \\n')\n",
    "main_carb = input('Select any Carb from list above: \\n')\n",
    "cuisine = input('Select Cuisine:\\n')\n",
    "SKU = input('Select Ingredient:\\n')\n",
    "tags = input('Select tag:\\n')"
   ]
  },
  {
   "cell_type": "code",
   "execution_count": 11,
   "id": "b3f1d65e",
   "metadata": {},
   "outputs": [],
   "source": [
    "#Display full dataframe\n",
    "pd.set_option('display.max_rows', len(df))\n",
    "pd.set_option('display.max_columns', len(df.columns))\n",
    "pd.set_option('display.width', 1000)"
   ]
  },
  {
   "cell_type": "code",
   "execution_count": 12,
   "id": "b274cffe",
   "metadata": {},
   "outputs": [
    {
     "name": "stdout",
     "output_type": "stream",
     "text": [
      "# Recipes with exact matches:\n",
      " 1\n"
     ]
    },
    {
     "data": {
      "text/html": [
       "<div>\n",
       "<style scoped>\n",
       "    .dataframe tbody tr th:only-of-type {\n",
       "        vertical-align: middle;\n",
       "    }\n",
       "\n",
       "    .dataframe tbody tr th {\n",
       "        vertical-align: top;\n",
       "    }\n",
       "\n",
       "    .dataframe thead th {\n",
       "        text-align: right;\n",
       "    }\n",
       "</style>\n",
       "<table border=\"1\" class=\"dataframe\">\n",
       "  <thead>\n",
       "    <tr style=\"text-align: right;\">\n",
       "      <th></th>\n",
       "      <th>recipe_id</th>\n",
       "      <th>name</th>\n",
       "      <th>box</th>\n",
       "      <th>main_protein</th>\n",
       "      <th>protein_cut</th>\n",
       "      <th>main_carb</th>\n",
       "      <th>culinary_cuisine</th>\n",
       "      <th>ingredients</th>\n",
       "      <th>last_score</th>\n",
       "      <th>tags</th>\n",
       "    </tr>\n",
       "  </thead>\n",
       "  <tbody>\n",
       "    <tr>\n",
       "      <th>1332</th>\n",
       "      <td>9732</td>\n",
       "      <td>[DT // Quick] Caramelised Onion Glazed Chicken...</td>\n",
       "      <td>classic-box/None</td>\n",
       "      <td>Chicken</td>\n",
       "      <td>Chicken - Mince</td>\n",
       "      <td>Potato - Sweet</td>\n",
       "      <td>Australian</td>\n",
       "      <td>mixed salad leaves,caramelised onion chutney,e...</td>\n",
       "      <td></td>\n",
       "      <td>High Fibre,Quick,dietitian_approved,low sodium...</td>\n",
       "    </tr>\n",
       "  </tbody>\n",
       "</table>\n",
       "</div>"
      ],
      "text/plain": [
       "     recipe_id                                               name               box main_protein      protein_cut       main_carb culinary_cuisine                                        ingredients last_score                                               tags\n",
       "1332      9732  [DT // Quick] Caramelised Onion Glazed Chicken...  classic-box/None      Chicken  Chicken - Mince  Potato - Sweet       Australian  mixed salad leaves,caramelised onion chutney,e...             High Fibre,Quick,dietitian_approved,low sodium..."
      ]
     },
     "execution_count": 12,
     "metadata": {},
     "output_type": "execute_result"
    }
   ],
   "source": [
    "df_similar1 = df.loc[(df['main_protein'].str.contains(protein))&(df['protein_cut'].str.contains(protein_cut)) & df['main_carb'].str.contains(main_carb) & (df['culinary_cuisine'].str.contains(cuisine)) & (df['ingredients'].str.contains(SKU)) & (df['tags'].str.contains(tags))]\n",
    "print(\"# Recipes with exact matches:\\n\", len(df_similar1))\n",
    "df_similar1"
   ]
  }
 ],
 "metadata": {
  "kernelspec": {
   "display_name": "Python 3 (ipykernel)",
   "language": "python",
   "name": "python3"
  },
  "language_info": {
   "codemirror_mode": {
    "name": "ipython",
    "version": 3
   },
   "file_extension": ".py",
   "mimetype": "text/x-python",
   "name": "python",
   "nbconvert_exporter": "python",
   "pygments_lexer": "ipython3",
   "version": "3.9.13"
  }
 },
 "nbformat": 4,
 "nbformat_minor": 5
}
